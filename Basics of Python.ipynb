{
 "cells": [
  {
   "cell_type": "markdown",
   "id": "d2fd52de",
   "metadata": {},
   "source": [
    "# Python Tutorial for Begineers \n",
    "\n",
    "### Purpose: \n",
    "\n",
    "#### This tutorial is designed to provide a comprehensive and efficient review of the fundamental concepts in Python. Whether you're revisiting the basics or learning them for the first time, you'll find it easy to grasp key concepts within a reasonable timeframe"
   ]
  },
  {
   "cell_type": "markdown",
   "id": "ad643b1e",
   "metadata": {},
   "source": [
    "### Basics of Python "
   ]
  },
  {
   "cell_type": "code",
   "execution_count": 2,
   "id": "397978d9",
   "metadata": {},
   "outputs": [
    {
     "name": "stdout",
     "output_type": "stream",
     "text": [
      "Hello World\n",
      "Welcome to my Repo\n"
     ]
    }
   ],
   "source": [
    "print(\"Hello World\")\n",
    "print(\"Welcome to my Repo\")"
   ]
  },
  {
   "cell_type": "code",
   "execution_count": 7,
   "id": "ba7d7dd2",
   "metadata": {},
   "outputs": [
    {
     "name": "stdout",
     "output_type": "stream",
     "text": [
      "Hey\n"
     ]
    }
   ],
   "source": [
    "# Single Line and multiline comments\n",
    "\n",
    "'''\n",
    "Welcome to my Repository \n",
    "These triple quotes are used whenever you want to write multiline comments \n",
    "\n",
    "'''\n",
    "print(\"Hey\")"
   ]
  },
  {
   "cell_type": "code",
   "execution_count": 9,
   "id": "670a3ced",
   "metadata": {},
   "outputs": [
    {
     "data": {
      "text/plain": [
       "int"
      ]
     },
     "execution_count": 9,
     "metadata": {},
     "output_type": "execute_result"
    }
   ],
   "source": [
    "# Variable Declaration\n",
    "a=50\n",
    "type(a)"
   ]
  },
  {
   "cell_type": "code",
   "execution_count": 12,
   "id": "a571f5be",
   "metadata": {},
   "outputs": [
    {
     "data": {
      "text/plain": [
       "str"
      ]
     },
     "execution_count": 12,
     "metadata": {},
     "output_type": "execute_result"
    }
   ],
   "source": [
    "x=40\n",
    "y=23\n",
    "z=\"Anurag\"\n",
    "type(z)"
   ]
  },
  {
   "cell_type": "code",
   "execution_count": 16,
   "id": "14fe2199",
   "metadata": {},
   "outputs": [
    {
     "name": "stdout",
     "output_type": "stream",
     "text": [
      "ANURAG\n",
      "GUPTA\n"
     ]
    }
   ],
   "source": [
    "# To assign variable: Always start the variable name with either A LETTER or an underscore character. \n",
    "# Numbers cannot be used in the start whereas Alphanumeric characters can be used. \n",
    "\n",
    "v1=43\n",
    "first_name= \"ANURAG\" \n",
    "last_name34= \"GUPTA\"\n",
    "print(first_name)\n",
    "print(last_name34)"
   ]
  },
  {
   "cell_type": "code",
   "execution_count": 18,
   "id": "7ccb4091",
   "metadata": {},
   "outputs": [
    {
     "name": "stdout",
     "output_type": "stream",
     "text": [
      "100 200 10000 1.0 0\n",
      "300 1000000 10.0 0\n"
     ]
    }
   ],
   "source": [
    "# Integer operations \n",
    "a=100\n",
    "b=a+100\n",
    "c=a*100\n",
    "d=a/100\n",
    "e=a%100\n",
    "print(a,b,c,d,e)\n",
    "print(a+b, a*c, d*10, e*e)"
   ]
  },
  {
   "cell_type": "code",
   "execution_count": 20,
   "id": "92e2eddb",
   "metadata": {},
   "outputs": [
    {
     "name": "stdout",
     "output_type": "stream",
     "text": [
      "<class 'float'>\n"
     ]
    }
   ],
   "source": [
    "# Floating \n",
    "a=1190.35\n",
    "print(type(a))"
   ]
  },
  {
   "cell_type": "code",
   "execution_count": 25,
   "id": "5b4ea846",
   "metadata": {},
   "outputs": [
    {
     "name": "stdout",
     "output_type": "stream",
     "text": [
      "1190\n"
     ]
    },
    {
     "data": {
      "text/plain": [
       "190.0"
      ]
     },
     "execution_count": 25,
     "metadata": {},
     "output_type": "execute_result"
    }
   ],
   "source": [
    "# Typecasting: Forceful conversion of one data type into another \n",
    "print(int(a))\n",
    "\n",
    "b= 190\n",
    "float(b)"
   ]
  },
  {
   "cell_type": "code",
   "execution_count": 29,
   "id": "8fa9fd3a",
   "metadata": {},
   "outputs": [
    {
     "data": {
      "text/plain": [
       "bool"
      ]
     },
     "execution_count": 29,
     "metadata": {},
     "output_type": "execute_result"
    }
   ],
   "source": [
    "## Boolean\n",
    "\n",
    "a=True\n",
    "b=False\n",
    "type(a)"
   ]
  },
  {
   "cell_type": "code",
   "execution_count": 34,
   "id": "ad8270d5",
   "metadata": {},
   "outputs": [
    {
     "name": "stdout",
     "output_type": "stream",
     "text": [
      "False\n",
      "True\n",
      "True\n",
      "False\n"
     ]
    }
   ],
   "source": [
    "print(a & b)\n",
    "print(a or b)\n",
    "print(a | b)\n",
    "print(a and b)"
   ]
  },
  {
   "cell_type": "code",
   "execution_count": 38,
   "id": "22261a46",
   "metadata": {},
   "outputs": [
    {
     "name": "stdout",
     "output_type": "stream",
     "text": [
      "ANURAG\n",
      "<class 'str'>\n"
     ]
    }
   ],
   "source": [
    "## Strings operation\n",
    "\n",
    "Name= \"ANURAG\"\n",
    "print(Name)\n",
    "print(type(Name))"
   ]
  },
  {
   "cell_type": "code",
   "execution_count": 42,
   "id": "5f4da418",
   "metadata": {},
   "outputs": [
    {
     "name": "stdout",
     "output_type": "stream",
     "text": [
      "ANURAG1\n"
     ]
    }
   ],
   "source": [
    "print(Name + \"1\")"
   ]
  },
  {
   "cell_type": "code",
   "execution_count": 45,
   "id": "5ac8035a",
   "metadata": {},
   "outputs": [
    {
     "ename": "TypeError",
     "evalue": "can only concatenate str (not \"int\") to str",
     "output_type": "error",
     "traceback": [
      "\u001b[1;31m---------------------------------------------------------------------------\u001b[0m",
      "\u001b[1;31mTypeError\u001b[0m                                 Traceback (most recent call last)",
      "Cell \u001b[1;32mIn[45], line 3\u001b[0m\n\u001b[0;32m      1\u001b[0m \u001b[38;5;66;03m### This operation wont be possible because we are trying to concatenate 2 different data types: String and Int\u001b[39;00m\n\u001b[1;32m----> 3\u001b[0m \u001b[38;5;28mprint\u001b[39m(Name \u001b[38;5;241m+\u001b[39m \u001b[38;5;241m1\u001b[39m)\n",
      "\u001b[1;31mTypeError\u001b[0m: can only concatenate str (not \"int\") to str"
     ]
    }
   ],
   "source": [
    "### This operation wont be possible because we are trying to concatenate 2 different data types: String and Int\n",
    "\n",
    "print(Name + 1)"
   ]
  },
  {
   "cell_type": "code",
   "execution_count": 48,
   "id": "a0c60804",
   "metadata": {},
   "outputs": [
    {
     "name": "stdout",
     "output_type": "stream",
     "text": [
      "ANURAG1\n",
      "ANURAG10\n"
     ]
    }
   ],
   "source": [
    "### To rectify it either use quotes or forcefully convert it to Str and then concatenate: Strongtyping\n",
    "\n",
    "print(Name + \"1\")\n",
    "print(Name + str(10))"
   ]
  },
  {
   "cell_type": "code",
   "execution_count": null,
   "id": "d0e15b6b",
   "metadata": {},
   "outputs": [],
   "source": []
  },
  {
   "cell_type": "code",
   "execution_count": null,
   "id": "a2de681e",
   "metadata": {},
   "outputs": [],
   "source": []
  }
 ],
 "metadata": {
  "kernelspec": {
   "display_name": "Python 3 (ipykernel)",
   "language": "python",
   "name": "python3"
  },
  "language_info": {
   "codemirror_mode": {
    "name": "ipython",
    "version": 3
   },
   "file_extension": ".py",
   "mimetype": "text/x-python",
   "name": "python",
   "nbconvert_exporter": "python",
   "pygments_lexer": "ipython3",
   "version": "3.11.5"
  }
 },
 "nbformat": 4,
 "nbformat_minor": 5
}
