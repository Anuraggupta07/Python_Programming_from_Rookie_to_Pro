{
 "cells": [
  {
   "cell_type": "code",
   "execution_count": 1,
   "metadata": {},
   "outputs": [],
   "source": [
    "##  The problem\n",
    "###Calculate grade of five subjects. \n",
    "\n",
    "## Hint\n",
    "####So, you have to take five inputs. These will be the marks of five subjects. Then, create the average. \n",
    "\n",
    "####Once you have the average. It just running an if-else. And decide the grade. \n",
    "\n",
    "## The Solution\n"
   ]
  },
  {
   "cell_type": "code",
   "execution_count": 7,
   "metadata": {},
   "outputs": [
    {
     "name": "stdout",
     "output_type": "stream",
     "text": [
      "Enter your marks:\n",
      "Grade: A\n"
     ]
    }
   ],
   "source": [
    "print('Enter your marks:')\n",
    "sub1=int(input(\"First subject: \"))\n",
    "sub2=int(input(\"Second subject: \"))\n",
    "sub3=int(input(\"Third subject: \"))\n",
    "sub4=int(input(\"Fourth subject: \"))\n",
    "sub5=int(input(\"Fifth subject: \"))\n",
    "avg=(sub1+sub2+sub3+sub4+sub5)/5\n",
    "if avg >= 90:\n",
    "   print(\"Grade: A\")\n",
    "elif avg >= 80:\n",
    "   print(\"Grade: B\")\n",
    "elif avg >= 70:\n",
    "   print(\"Grade: C\")\n",
    "elif avg >=60:\n",
    "   print(\"Grade: D\")\n",
    "else:\n",
    "   print(\"Grade: F\")"
   ]
  },
  {
   "cell_type": "markdown",
   "metadata": {},
   "source": [
    "##  Explanation\n",
    "Calculation of average is easy. Add them all and then divide by the count. As we are taking numbers for 5 subjects we are dividing the total by 5. \n",
    "\n",
    "After that, we are running a simple if-else to determine the grade. "
   ]
  },
  {
   "cell_type": "markdown",
   "metadata": {},
   "source": [
    "# 6.2: Compound Interest\n",
    "\n",
    "## The Problem\n",
    "Take money borrowed, interest and duration as input. Then, compute the compound interest rate.\n",
    "\n",
    "###   Hint\n",
    "Compound interest formula is:\n",
    "```python\n",
    "A = P(1+r/100)t\n",
    "```\n",
    "\n",
    "Here, P is the principal amount; it is the amount that you borrowed. r is the interest rate in percentage and t is the time.\n"
   ]
  },
  {
   "cell_type": "code",
   "execution_count": 5,
   "metadata": {},
   "outputs": [
    {
     "name": "stdout",
     "output_type": "stream",
     "text": [
      "Money you borrowed:  50000\n",
      "Interest Rate:  12.0\n",
      "Overall Duration:  1.0\n",
      "Interest Amount is: 56000.00000000001\n"
     ]
    }
   ],
   "source": [
    "##Solution\n",
    "def compound_interest(principle, rate, time):\n",
    "\tinterest = principle * ((1 + rate / 100) ** time)\n",
    "\treturn interest\n",
    "\n",
    "principle = int(input(\"Money you borrowed: \"))\n",
    "interest_rate = float(input(\"Interest Rate: \"))\n",
    "time = float(input(\"Overall Duration: \"))\n",
    "\n",
    "total_due = compound_interest(principle, interest_rate, time)\n",
    "\n",
    "print(\"Money you borrowed: \", principle)\n",
    "print(\"Interest Rate: \", interest_rate)\n",
    "print(\"Overall Duration: \", time)\n",
    "print(\"Interest Amount is:\", total_due)"
   ]
  },
  {
   "cell_type": "code",
   "execution_count": null,
   "metadata": {},
   "outputs": [],
   "source": []
  },
  {
   "cell_type": "code",
   "execution_count": null,
   "metadata": {},
   "outputs": [],
   "source": []
  }
 ],
 "metadata": {
  "kernelspec": {
   "display_name": "base",
   "language": "python",
   "name": "python3"
  },
  "language_info": {
   "codemirror_mode": {
    "name": "ipython",
    "version": 3
   },
   "file_extension": ".py",
   "mimetype": "text/x-python",
   "name": "python",
   "nbconvert_exporter": "python",
   "pygments_lexer": "ipython3",
   "version": "3.11.5"
  }
 },
 "nbformat": 4,
 "nbformat_minor": 2
}
